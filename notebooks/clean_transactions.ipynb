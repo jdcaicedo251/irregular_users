{
 "cells": [
  {
   "cell_type": "markdown",
   "id": "663ae1c5",
   "metadata": {},
   "source": [
    "The objective of the notebook is to clean the raw transactions an unique file with relevant information. "
   ]
  },
  {
   "cell_type": "code",
   "execution_count": 1,
   "id": "1e6977eb",
   "metadata": {},
   "outputs": [],
   "source": [
    "import os\n",
    "import pandas as pd \n",
    "import numpy as np \n",
    "import time\n",
    "import matplotlib.pyplot as plt"
   ]
  },
  {
   "cell_type": "code",
   "execution_count": 6,
   "id": "29f5b50d",
   "metadata": {},
   "outputs": [],
   "source": [
    "# Marzo 2017 \n",
    "path = '../../raw_data/2017_03_ValTroncal Mar2017'"
   ]
  },
  {
   "cell_type": "code",
   "execution_count": 7,
   "id": "5fd98ab8",
   "metadata": {},
   "outputs": [],
   "source": [
    "#Relevant Columns\n",
    "cols = ['Fecha de Transaccion','Emisor','Estacion',\n",
    "       'Acceso de Estación', 'Dispositivo', 'Tipo de Tarjeta',\n",
    "       'Nombre de Perfil', 'Numero de Tarjeta', 'Tipo de Tarifa',\n",
    "       'Saldo Previo a Transaccion', 'Valor', 'Saldo Despues de Transaccion']\n",
    "\n",
    "cols_1 = ['Fecha de Liquidación', 'Fecha de Uso', 'Emisor', 'Estación',\n",
    "       'Acceso de Estación', 'Dispositivo', 'Tipo de Tarjeta',\n",
    "       'Nombre de Perfil', 'Número de Tarjeta', 'Tipo de Tarifa',\n",
    "       'Saldo Previo a Transacción', 'Valor', 'Saldo Después de Transacción']"
   ]
  },
  {
   "cell_type": "code",
   "execution_count": 108,
   "id": "9f0b0735",
   "metadata": {},
   "outputs": [],
   "source": [
    "#Relevant Columns\n",
    "cols = ['Fecha de Transaccion','Emisor','Estacion',\n",
    "       'Acceso de Estación', 'Dispositivo', 'Tipo de Tarjeta',\n",
    "       'Nombre de Perfil', 'Numero de Tarjeta', 'Tipo de Tarifa',\n",
    "       'Saldo Previo a Transaccion', 'Valor', 'Saldo Despues de Transaccion']\n",
    "\n",
    "cols_1 = ['Fecha de Uso', 'Emisor', 'Estación',\n",
    "       'Acceso de Estación', 'Dispositivo', 'Tipo de Tarjeta',\n",
    "       'Nombre de Perfil', 'Número de Tarjeta', 'Tipo de Tarifa',\n",
    "       'Saldo Previo a Transacción', 'Valor', 'Saldo Después de Transacción']\n",
    "\n",
    "dfs = []\n",
    "for i in os.listdir(path):\n",
    "    try:\n",
    "        df = pd.read_csv(os.path.join(path,i), delimiter = \";\")\n",
    "        fecha_transaction = df['Fecha de Transaccion'].astype(str)\n",
    "        df['Fecha de Transaccion'] = pd.to_datetime(fecha_transaction, \n",
    "                                                    format= '%Y%m%d%H%M%S')\n",
    "        dfs.append(df[cols])\n",
    "\n",
    "    except IsADirectoryError:\n",
    "        for j in os.listdir(os.path.join(path,i)):\n",
    "            df = pd.read_csv(os.path.join(path, i,j), \n",
    "                             delimiter = ',')\n",
    "            \n",
    "            df = df[cols_1]\n",
    "            df.columns = cols\n",
    "            fecha_transaction = df['Fecha de Transaccion'].astype(str)\n",
    "            df['Fecha de Transaccion'] = pd.to_datetime(fecha_transaction, \n",
    "                                                        format= '%d-%m-%Y %H:%M:%S')\n",
    "            dfs.append(df)"
   ]
  },
  {
   "cell_type": "code",
   "execution_count": 279,
   "id": "f8922e3b",
   "metadata": {},
   "outputs": [],
   "source": [
    "big_df = pd.concat(dfs).reset_index(drop=True)"
   ]
  },
  {
   "cell_type": "code",
   "execution_count": 294,
   "id": "4d264c3b",
   "metadata": {},
   "outputs": [],
   "source": [
    "sample_size = 100000\n",
    "a = big_df.iloc[:sample_size]"
   ]
  },
  {
   "cell_type": "markdown",
   "id": "2f859a71",
   "metadata": {},
   "source": [
    "## What's the more convient data storage for the data\n",
    "\n",
    "Evaluation takes into consideration: \n",
    "- saving_time: time to save a dataframe \n",
    "- reading_time: time to read a dataframe \n",
    "- file_size: size of the produced file \n",
    "\n",
    "In this experiment, three data format are selected: \n",
    "- Feather \n",
    "- Parquet \n",
    "- cvs"
   ]
  },
  {
   "cell_type": "code",
   "execution_count": 301,
   "id": "9b067b41",
   "metadata": {},
   "outputs": [],
   "source": [
    "results = {}\n",
    "\n",
    "sample_size = 100000\n",
    "i = 80000\n",
    "a = big_df.iloc[i:i + sample_size]"
   ]
  },
  {
   "cell_type": "code",
   "execution_count": 302,
   "id": "ddc58f77",
   "metadata": {},
   "outputs": [],
   "source": [
    "# Saving time\n",
    "results['saving_time'] = {}\n",
    "start = time.time()\n",
    "a.reset_index(drop=True).to_feather('clean_trasactions.ftr')\n",
    "end = time.time()\n",
    "results['saving_time']['feather']= end - start\n",
    "\n",
    "start = time.time()\n",
    "a.reset_index(drop=True).to_parquet('clean_trasactions.parquet')\n",
    "end = time.time()\n",
    "results['saving_time']['parquet']= end - start\n",
    "\n",
    "start = time.time()\n",
    "a.reset_index(drop=True).to_csv('clean_trasactions.csv', index = False)\n",
    "end = time.time()\n",
    "results['saving_time']['csv']= end - start"
   ]
  },
  {
   "cell_type": "code",
   "execution_count": 303,
   "id": "a1a89ca1",
   "metadata": {},
   "outputs": [],
   "source": [
    "# Reading Times\n",
    "results['reading_time'] = {}\n",
    "start = time.time()\n",
    "pd.read_feather('clean_trasactions.ftr')\n",
    "end = time.time()\n",
    "results['reading_time']['feather']= end - start\n",
    "\n",
    "start = time.time()\n",
    "pd.read_parquet('clean_trasactions.parquet')\n",
    "end = time.time()\n",
    "results['reading_time']['parquet']= end - start\n",
    "\n",
    "start = time.time()\n",
    "pd.read_csv('clean_trasactions.csv')\n",
    "end = time.time()\n",
    "results['reading_time']['csv']= end - start"
   ]
  },
  {
   "cell_type": "code",
   "execution_count": 304,
   "id": "65f5dbea",
   "metadata": {},
   "outputs": [],
   "source": [
    "# File size\n",
    "results['file_size'] = {}\n",
    "\n",
    "file_size = os.path.getsize('clean_trasactions.ftr')\n",
    "results['file_size']['feather']= file_size\n",
    "\n",
    "file_size = os.path.getsize('clean_trasactions.parquet')\n",
    "results['file_size']['parquet']= file_size\n",
    "\n",
    "file_size = os.path.getsize('clean_trasactions.csv')\n",
    "results['file_size']['csv']= file_size"
   ]
  },
  {
   "cell_type": "code",
   "execution_count": 305,
   "id": "ce1d5ac3",
   "metadata": {},
   "outputs": [
    {
     "data": {
      "image/png": "[encoded data removed]",
      "text/plain": [
       "<Figure size 1080x360 with 3 Axes>"
      ]
     },
     "metadata": {
      "needs_background": "light"
     },
     "output_type": "display_data"
    }
   ],
   "source": [
    "df = pd.DataFrame(results)\n",
    "df['saving_time'] = df['saving_time']* 1000\n",
    "df['reading_time'] = df['reading_time']* 1000\n",
    "df['file_size'] = df['file_size']/ 1000000\n",
    "\n",
    "axs = df.plot.bar(subplots = True, layout=(1,3), figsize = (15,5))\n",
    "axs[0][0].set_ylabel('time [ms]')\n",
    "axs[0][1].set_ylabel('time [ms]')\n",
    "axs[0][2].set_ylabel('MB');"
   ]
  },
  {
   "cell_type": "markdown",
   "id": "ccafb781",
   "metadata": {},
   "source": [
    "Conclusion: Feather and Parquet perform much better than CVS files for saving and reading time. While Parquet has a slighly worse saving and reading performance, Parquet is prefered because the resulting file size in 66% smaller than the Feather format. "
   ]
  },
  {
   "cell_type": "markdown",
   "id": "c4f29768",
   "metadata": {},
   "source": [
    "### Saving one month of data"
   ]
  },
  {
   "cell_type": "code",
   "execution_count": 186,
   "id": "5790f81a",
   "metadata": {},
   "outputs": [],
   "source": [
    "big_df = big_df.reset_index(drop = True)"
   ]
  },
  {
   "cell_type": "code",
   "execution_count": 189,
   "id": "db598b1d",
   "metadata": {},
   "outputs": [
    {
     "name": "stdout",
     "output_type": "stream",
     "text": [
      "CPU times: user 50.6 s, sys: 35.8 s, total: 1min 26s\n",
      "Wall time: 2min 1s\n"
     ]
    }
   ],
   "source": [
    "%%time\n",
    "big_df.to_parquet('2017_03.parquet')"
   ]
  },
  {
   "cell_type": "code",
   "execution_count": 6,
   "id": "c51fb219",
   "metadata": {},
   "outputs": [
    {
     "name": "stdout",
     "output_type": "stream",
     "text": [
      "File size: 1.08 GB\n"
     ]
    }
   ],
   "source": [
    "file_size = os.path.getsize('2017_03.parquet')\n",
    "print (\"File size: {:.2f} GB\".format(file_size/1000000000))"
   ]
  },
  {
   "cell_type": "code",
   "execution_count": 2,
   "id": "da53e48a",
   "metadata": {},
   "outputs": [],
   "source": [
    "df = pd.read_parquet('2017_03.parquet')"
   ]
  },
  {
   "cell_type": "code",
   "execution_count": 6,
   "id": "00b56a9c",
   "metadata": {},
   "outputs": [
    {
     "data": {
      "text/plain": [
       "array(['tullave Básica', 'tullave Plus', 'Angelcom'], dtype=object)"
      ]
     },
     "execution_count": 6,
     "metadata": {},
     "output_type": "execute_result"
    }
   ],
   "source": [
    "df['Tipo de Tarjeta'].unique()"
   ]
  },
  {
   "cell_type": "code",
   "execution_count": 9,
   "id": "0d0e5f7d",
   "metadata": {},
   "outputs": [
    {
     "data": {
      "text/plain": [
       "array(['(001) Anonymous', '(006) Apoyo Ciudadano', '(001) Adulto',\n",
       "       '(014) Usuario frecuente', '(002) Adulto Mayor',\n",
       "       '(018) Universitaria', '(030) Capital monedero',\n",
       "       '(025) Empresarial Compensar', '(005) Discapacidad',\n",
       "       '(024) Empresarial Colsubsidio',\n",
       "       '(029) Empresarial Banco de Bogotá',\n",
       "       '(023) Empresarial Davivienda', '(026) Empresarial AV Villas',\n",
       "       '(017) Discapacitado Monedero', '(021) Tarjeta Ciudadana',\n",
       "       '(036) Empresarial Colpatria', '(027) Club Universitario',\n",
       "       '(044) Empresarial CIS', '(035) Empresarial AV Villas Crédito',\n",
       "       '(003) Estudiantil', '(041) Empresarial Cercanos',\n",
       "       '(006) Discapacitados', '(008) Étnico',\n",
       "       '(032) Empresarial Daviplata', '(022) Empresarial TM',\n",
       "       '(033) Empresarial People Pass'], dtype=object)"
      ]
     },
     "execution_count": 9,
     "metadata": {},
     "output_type": "execute_result"
    }
   ],
   "source": [
    "df['Nombre de Perfil'].unique()"
   ]
  },
  {
   "cell_type": "markdown",
   "id": "9c4685c6",
   "metadata": {},
   "source": [
    "## Saving all months results"
   ]
  },
  {
   "cell_type": "code",
   "execution_count": null,
   "id": "e38cca9b",
   "metadata": {},
   "outputs": [],
   "source": [
    "path = '../../raw_data/2017_03_ValTroncal Mar2017'"
   ]
  },
  {
   "cell_type": "code",
   "execution_count": null,
   "id": "039f50eb",
   "metadata": {},
   "outputs": [],
   "source": [
    "def read_month(path):\n",
    "    \n",
    "    cols = ['Fecha de Transaccion','Emisor','Estacion',\n",
    "       'Acceso de Estación', 'Dispositivo', 'Tipo de Tarjeta',\n",
    "       'Nombre de Perfil', 'Numero de Tarjeta', 'Tipo de Tarifa',\n",
    "       'Saldo Previo a Transaccion', 'Valor', 'Saldo Despues de Transaccion']\n",
    "\n",
    "    cols_1 = ['Fecha de Uso', 'Emisor', 'Estación',\n",
    "           'Acceso de Estación', 'Dispositivo', 'Tipo de Tarjeta',\n",
    "           'Nombre de Perfil', 'Número de Tarjeta', 'Tipo de Tarifa',\n",
    "           'Saldo Previo a Transacción', 'Valor', 'Saldo Después de Transacción']\n",
    "    \n",
    "    dfs = []\n",
    "    for i in os.listdir(path):\n",
    "        try:\n",
    "            df = pd.read_csv(os.path.join(path,i), delimiter = \";\")\n",
    "            fecha_transaction = df['Fecha de Transaccion'].astype(str)\n",
    "            df['Fecha de Transaccion'] = pd.to_datetime(fecha_transaction, \n",
    "                                                        format= '%Y%m%d%H%M%S')\n",
    "            dfs.append(df[cols])\n",
    "\n",
    "        except IsADirectoryError:\n",
    "            for j in os.listdir(os.path.join(path,i)):\n",
    "                df = pd.read_csv(os.path.join(path, i,j), \n",
    "                                 delimiter = ',')\n",
    "\n",
    "                df = df[cols_1]\n",
    "                df.columns = cols\n",
    "                fecha_transaction = df['Fecha de Transaccion'].astype(str)\n",
    "                df['Fecha de Transaccion'] = pd.to_datetime(fecha_transaction, \n",
    "                                                            format= '%d-%m-%Y %H:%M:%S')\n",
    "                dfs.append(df)\n",
    "    "
   ]
  },
  {
   "cell_type": "code",
   "execution_count": 4,
   "id": "877bbd3e",
   "metadata": {},
   "outputs": [],
   "source": [
    "rawdata_path = '/Users/juandavidcaicedocastro/raw_data/'"
   ]
  },
  {
   "cell_type": "code",
   "execution_count": 31,
   "id": "c4a46b87",
   "metadata": {},
   "outputs": [],
   "source": [
    "from xlsx2csv import Xlsx2csv"
   ]
  },
  {
   "cell_type": "code",
   "execution_count": 32,
   "id": "d6bcbc5a",
   "metadata": {},
   "outputs": [
    {
     "name": "stdout",
     "output_type": "stream",
     "text": [
      "CPU times: user 1min 57s, sys: 4.99 s, total: 2min 2s\n",
      "Wall time: 2min 13s\n"
     ]
    }
   ],
   "source": [
    "%%time\n",
    "Xlsx2csv(abril_path, outputencoding=\"utf-8\").convert(\"myfile.csv\")\n",
    "df_1 = pd.read_csv(\"myfile.csv\")"
   ]
  },
  {
   "cell_type": "code",
   "execution_count": 33,
   "id": "753e68e1",
   "metadata": {},
   "outputs": [
    {
     "name": "stderr",
     "output_type": "stream",
     "text": [
      "/Users/juandavidcaicedocastro/anaconda3/envs/irregular/lib/python3.9/site-packages/openpyxl/styles/stylesheet.py:226: UserWarning: Workbook contains no default style, apply openpyxl's default\n",
      "  warn(\"Workbook contains no default style, apply openpyxl's default\")\n"
     ]
    },
    {
     "name": "stdout",
     "output_type": "stream",
     "text": [
      "CPU times: user 3min 50s, sys: 14.7 s, total: 4min 4s\n",
      "Wall time: 4min 14s\n"
     ]
    }
   ],
   "source": [
    "%%time\n",
    "df_2 = pd.read_excel('../data/' + 'ValTroncal Abril  14 de 2017export.xlsx')"
   ]
  },
  {
   "cell_type": "markdown",
   "id": "cad0fe3b",
   "metadata": {},
   "source": [
    "Transforming to CSV first is more efficient than reading excel files directly from excel."
   ]
  },
  {
   "cell_type": "code",
   "execution_count": null,
   "id": "e993753a",
   "metadata": {},
   "outputs": [],
   "source": []
  }
 ],
 "metadata": {
  "kernelspec": {
   "display_name": "Python 3 (ipykernel)",
   "language": "python",
   "name": "python3"
  },
  "language_info": {
   "codemirror_mode": {
    "name": "ipython",
    "version": 3
   },
   "file_extension": ".py",
   "mimetype": "text/x-python",
   "name": "python",
   "nbconvert_exporter": "python",
   "pygments_lexer": "ipython3",
   "version": "3.9.13"
  }
 },
 "nbformat": 4,
 "nbformat_minor": 5
}
