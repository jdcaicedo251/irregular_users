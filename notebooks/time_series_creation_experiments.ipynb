{
 "cells": [
  {
   "cell_type": "markdown",
   "id": "adb7606f",
   "metadata": {},
   "source": [
    "The objective of the notebook is to randomly select 50k users to process a weekley time series for the following varibles: \n",
    "\n",
    "- Total number of transactions \n",
    "- Number of active days \n",
    "- Average transactions on weekdays \n",
    "- Average transactions on weekends"
   ]
  },
  {
   "cell_type": "code",
   "execution_count": 5,
   "id": "6f7a709b",
   "metadata": {},
   "outputs": [],
   "source": [
    "import os\n",
    "import pandas as pd \n",
    "import numpy as np "
   ]
  },
  {
   "cell_type": "markdown",
   "id": "982340e6",
   "metadata": {},
   "source": [
    "# 1. Read all the files to create a unique SMART_CARD_ID database"
   ]
  },
  {
   "cell_type": "markdown",
   "id": "19fdd215",
   "metadata": {},
   "source": [
    " TO DO: Clean data. The format that the data is stored is not standards. \n",
    "                    A cleaning procedure is important. For now I will assume that i \n",
    "                    I can read all files with the same format. \n",
    "\n",
    " - Ideas to assert \n",
    " 1. Each month should have the days number of files. e.g.: If sept has 30 day, then it should have 30 files in the corresponding folder"
   ]
  },
  {
   "cell_type": "code",
   "execution_count": 19,
   "id": "4acdca23",
   "metadata": {},
   "outputs": [],
   "source": [
    "path = '../../raw_data/2018_09_ValTroncal Sep2018'\n",
    "files = os.listdir(path)"
   ]
  },
  {
   "cell_type": "code",
   "execution_count": 20,
   "id": "f30b5e6f",
   "metadata": {},
   "outputs": [],
   "source": [
    "assert len(files) == 30, \"September has 30 months\""
   ]
  },
  {
   "cell_type": "code",
   "execution_count": 34,
   "id": "f46fbd92",
   "metadata": {},
   "outputs": [
    {
     "name": "stdout",
     "output_type": "stream",
     "text": [
      "Number of transactions: 3666486\n",
      "Number of Unique IDS: 1719164\n"
     ]
    }
   ],
   "source": [
    "id_list = []\n",
    "for file in files[:3]:\n",
    "    df = pd.read_csv(os.path.join(path, file), delimiter = ';')\n",
    "    id_list.append(df['Numero de Tarjeta'])\n",
    "\n",
    "ids = pd.concat(id_list)\n",
    "unique_ids = ids.drop_duplicates()\n",
    "\n",
    "print ('Number of transactions: {}'.format(len(ids)))\n",
    "print ('Number of Unique IDS: {}'.format(len(unique_ids)))"
   ]
  },
  {
   "cell_type": "code",
   "execution_count": 36,
   "id": "66f7208d",
   "metadata": {},
   "outputs": [],
   "source": [
    "#Save file (I suspect that this code will take a long time to run)\n",
    "unique_ids.to_csv('../output/unique_ids.csv', index = False)"
   ]
  },
  {
   "cell_type": "markdown",
   "id": "6c2f07b7",
   "metadata": {},
   "source": [
    "# 2. Randomly select 50k smartcard "
   ]
  },
  {
   "cell_type": "code",
   "execution_count": 40,
   "id": "593e6edf",
   "metadata": {},
   "outputs": [],
   "source": [
    "sample_size = 50000\n",
    "unique_ids = pd.read_csv('../output/unique_ids.csv')\n",
    "sample_ids = unique_ids.sample(sample_size)"
   ]
  },
  {
   "cell_type": "code",
   "execution_count": 44,
   "id": "8317dd4a",
   "metadata": {},
   "outputs": [
    {
     "data": {
      "text/html": [
       "<div>\n",
       "<style scoped>\n",
       "    .dataframe tbody tr th:only-of-type {\n",
       "        vertical-align: middle;\n",
       "    }\n",
       "\n",
       "    .dataframe tbody tr th {\n",
       "        vertical-align: top;\n",
       "    }\n",
       "\n",
       "    .dataframe thead th {\n",
       "        text-align: right;\n",
       "    }\n",
       "</style>\n",
       "<table border=\"1\" class=\"dataframe\">\n",
       "  <thead>\n",
       "    <tr style=\"text-align: right;\">\n",
       "      <th></th>\n",
       "      <th>Numero de Tarjeta</th>\n",
       "    </tr>\n",
       "  </thead>\n",
       "  <tbody>\n",
       "    <tr>\n",
       "      <th>634662</th>\n",
       "      <td>2003010007541576</td>\n",
       "    </tr>\n",
       "    <tr>\n",
       "      <th>16055</th>\n",
       "      <td>1010000054131107</td>\n",
       "    </tr>\n",
       "    <tr>\n",
       "      <th>158582</th>\n",
       "      <td>1010000144571791</td>\n",
       "    </tr>\n",
       "    <tr>\n",
       "      <th>1418363</th>\n",
       "      <td>1010000059072918</td>\n",
       "    </tr>\n",
       "    <tr>\n",
       "      <th>1129417</th>\n",
       "      <td>1010000109514729</td>\n",
       "    </tr>\n",
       "    <tr>\n",
       "      <th>...</th>\n",
       "      <td>...</td>\n",
       "    </tr>\n",
       "    <tr>\n",
       "      <th>754811</th>\n",
       "      <td>1010000009997479</td>\n",
       "    </tr>\n",
       "    <tr>\n",
       "      <th>1220068</th>\n",
       "      <td>1010000004335923</td>\n",
       "    </tr>\n",
       "    <tr>\n",
       "      <th>509040</th>\n",
       "      <td>1010000139556948</td>\n",
       "    </tr>\n",
       "    <tr>\n",
       "      <th>534322</th>\n",
       "      <td>1010000145699518</td>\n",
       "    </tr>\n",
       "    <tr>\n",
       "      <th>1518672</th>\n",
       "      <td>1010000127668622</td>\n",
       "    </tr>\n",
       "  </tbody>\n",
       "</table>\n",
       "<p>50000 rows × 1 columns</p>\n",
       "</div>"
      ],
      "text/plain": [
       "         Numero de Tarjeta\n",
       "634662    2003010007541576\n",
       "16055     1010000054131107\n",
       "158582    1010000144571791\n",
       "1418363   1010000059072918\n",
       "1129417   1010000109514729\n",
       "...                    ...\n",
       "754811    1010000009997479\n",
       "1220068   1010000004335923\n",
       "509040    1010000139556948\n",
       "534322    1010000145699518\n",
       "1518672   1010000127668622\n",
       "\n",
       "[50000 rows x 1 columns]"
      ]
     },
     "execution_count": 44,
     "metadata": {},
     "output_type": "execute_result"
    }
   ],
   "source": [
    "sample_ids"
   ]
  },
  {
   "cell_type": "markdown",
   "id": "d33d6732",
   "metadata": {},
   "source": [
    "# 3. Create a sinlge file with all the transactions of the 50k smartcard (in parquet maybe) "
   ]
  },
  {
   "cell_type": "code",
   "execution_count": 86,
   "id": "e9b2d3fe",
   "metadata": {},
   "outputs": [],
   "source": [
    "transaction_list = []\n",
    "for file in files[:15]:\n",
    "    df = pd.read_csv(os.path.join(path, file), delimiter = ';')\n",
    "    mask = sample_ids['Numero de Tarjeta']\n",
    "    df_trans = df[df['Numero de Tarjeta'].isin(mask)]\n",
    "    transaction_list.append(df_trans)\n",
    "transactions = pd .concat(transaction_list)"
   ]
  },
  {
   "cell_type": "code",
   "execution_count": 106,
   "id": "f7be30c3",
   "metadata": {},
   "outputs": [],
   "source": [
    "# Clean transactions (and delete columns that are not relevant to save space)\n",
    "\n",
    "#relevant_cols\n",
    "cols = ['Fecha de Transaccion', 'Emisor', 'Estacion', 'Tipo de Tarjeta', 'Nombre de Perfil',\n",
    "        'Numero de Tarjeta', 'Tipo de Tarifa', 'Saldo Previo a Transaccion', 'Valor']\n",
    "\n",
    "transactions = transactions[cols]"
   ]
  },
  {
   "cell_type": "code",
   "execution_count": 107,
   "id": "f8cea7db",
   "metadata": {
    "scrolled": true
   },
   "outputs": [],
   "source": [
    "fecha_transaction = transactions['Fecha de Transaccion'].astype(str)\n",
    "transactions['timestamp'] = pd.to_datetime(fecha_transaction, format= '%Y%m%d%H%M%S')\n",
    "# transactions['year'] = fecha_transaction.str[:4]\n",
    "# transactions['month'] = fecha_transaction.str[4:6]  \n",
    "# transactions['day'] = fecha_transaction.str[6:8]  \n",
    "# transactions['minute'] = fecha_transaction.str[8:10]  \n",
    "# transactions['seconds'] = fecha_transaction.str[10:12]  "
   ]
  },
  {
   "cell_type": "markdown",
   "id": "f6d79859",
   "metadata": {},
   "source": [
    "# 4. Aggregate variables by week and create time series for each person"
   ]
  },
  {
   "cell_type": "code",
   "execution_count": 108,
   "id": "863110ec",
   "metadata": {},
   "outputs": [
    {
     "data": {
      "text/html": [
       "<div>\n",
       "<style scoped>\n",
       "    .dataframe tbody tr th:only-of-type {\n",
       "        vertical-align: middle;\n",
       "    }\n",
       "\n",
       "    .dataframe tbody tr th {\n",
       "        vertical-align: top;\n",
       "    }\n",
       "\n",
       "    .dataframe thead th {\n",
       "        text-align: right;\n",
       "    }\n",
       "</style>\n",
       "<table border=\"1\" class=\"dataframe\">\n",
       "  <thead>\n",
       "    <tr style=\"text-align: right;\">\n",
       "      <th>timestamp</th>\n",
       "      <th>2018-09-02</th>\n",
       "      <th>2018-09-09</th>\n",
       "      <th>2018-09-16</th>\n",
       "      <th>2018-09-23</th>\n",
       "      <th>2018-09-30</th>\n",
       "    </tr>\n",
       "    <tr>\n",
       "      <th>Numero de Tarjeta</th>\n",
       "      <th></th>\n",
       "      <th></th>\n",
       "      <th></th>\n",
       "      <th></th>\n",
       "      <th></th>\n",
       "    </tr>\n",
       "  </thead>\n",
       "  <tbody>\n",
       "    <tr>\n",
       "      <th>396750443</th>\n",
       "      <td>0.0</td>\n",
       "      <td>4.0</td>\n",
       "      <td>6.0</td>\n",
       "      <td>2.0</td>\n",
       "      <td>2.0</td>\n",
       "    </tr>\n",
       "    <tr>\n",
       "      <th>783476603</th>\n",
       "      <td>0.0</td>\n",
       "      <td>0.0</td>\n",
       "      <td>2.0</td>\n",
       "      <td>3.0</td>\n",
       "      <td>0.0</td>\n",
       "    </tr>\n",
       "    <tr>\n",
       "      <th>1122976996</th>\n",
       "      <td>1.0</td>\n",
       "      <td>3.0</td>\n",
       "      <td>5.0</td>\n",
       "      <td>1.0</td>\n",
       "      <td>3.0</td>\n",
       "    </tr>\n",
       "    <tr>\n",
       "      <th>1123040324</th>\n",
       "      <td>3.0</td>\n",
       "      <td>0.0</td>\n",
       "      <td>0.0</td>\n",
       "      <td>0.0</td>\n",
       "      <td>0.0</td>\n",
       "    </tr>\n",
       "    <tr>\n",
       "      <th>1123075108</th>\n",
       "      <td>0.0</td>\n",
       "      <td>2.0</td>\n",
       "      <td>0.0</td>\n",
       "      <td>2.0</td>\n",
       "      <td>0.0</td>\n",
       "    </tr>\n",
       "    <tr>\n",
       "      <th>...</th>\n",
       "      <td>...</td>\n",
       "      <td>...</td>\n",
       "      <td>...</td>\n",
       "      <td>...</td>\n",
       "      <td>...</td>\n",
       "    </tr>\n",
       "    <tr>\n",
       "      <th>54097253376793092</th>\n",
       "      <td>3.0</td>\n",
       "      <td>0.0</td>\n",
       "      <td>0.0</td>\n",
       "      <td>0.0</td>\n",
       "      <td>0.0</td>\n",
       "    </tr>\n",
       "    <tr>\n",
       "      <th>54099858936108292</th>\n",
       "      <td>0.0</td>\n",
       "      <td>3.0</td>\n",
       "      <td>2.0</td>\n",
       "      <td>3.0</td>\n",
       "      <td>0.0</td>\n",
       "    </tr>\n",
       "    <tr>\n",
       "      <th>54099858938528516</th>\n",
       "      <td>0.0</td>\n",
       "      <td>0.0</td>\n",
       "      <td>0.0</td>\n",
       "      <td>1.0</td>\n",
       "      <td>0.0</td>\n",
       "    </tr>\n",
       "    <tr>\n",
       "      <th>54099859340525572</th>\n",
       "      <td>2.0</td>\n",
       "      <td>11.0</td>\n",
       "      <td>12.0</td>\n",
       "      <td>2.0</td>\n",
       "      <td>4.0</td>\n",
       "    </tr>\n",
       "    <tr>\n",
       "      <th>54099859341181700</th>\n",
       "      <td>0.0</td>\n",
       "      <td>7.0</td>\n",
       "      <td>6.0</td>\n",
       "      <td>2.0</td>\n",
       "      <td>4.0</td>\n",
       "    </tr>\n",
       "  </tbody>\n",
       "</table>\n",
       "<p>50000 rows × 5 columns</p>\n",
       "</div>"
      ],
      "text/plain": [
       "timestamp          2018-09-02  2018-09-09  2018-09-16  2018-09-23  2018-09-30\n",
       "Numero de Tarjeta                                                            \n",
       "396750443                 0.0         4.0         6.0         2.0         2.0\n",
       "783476603                 0.0         0.0         2.0         3.0         0.0\n",
       "1122976996                1.0         3.0         5.0         1.0         3.0\n",
       "1123040324                3.0         0.0         0.0         0.0         0.0\n",
       "1123075108                0.0         2.0         0.0         2.0         0.0\n",
       "...                       ...         ...         ...         ...         ...\n",
       "54097253376793092         3.0         0.0         0.0         0.0         0.0\n",
       "54099858936108292         0.0         3.0         2.0         3.0         0.0\n",
       "54099858938528516         0.0         0.0         0.0         1.0         0.0\n",
       "54099859340525572         2.0        11.0        12.0         2.0         4.0\n",
       "54099859341181700         0.0         7.0         6.0         2.0         4.0\n",
       "\n",
       "[50000 rows x 5 columns]"
      ]
     },
     "execution_count": 108,
     "metadata": {},
     "output_type": "execute_result"
    }
   ],
   "source": [
    "weekly_transactions = transactions.groupby(['Numero de Tarjeta',\n",
    "                                            pd.Grouper(key = 'timestamp',freq='W')])['Emisor'].count()\n",
    "\n",
    "\n",
    "weekly_transactions = weekly_transactions.reset_index()\n",
    "weekly_transactions = pd.pivot_table(weekly_transactions, \n",
    "               values = 'Emisor', \n",
    "               index = 'Numero de Tarjeta', \n",
    "               columns = 'timestamp',\n",
    "               aggfunc=np.sum)\n",
    "\n",
    "weekly_transactions.fillna(0, inplace = True)\n",
    "weekly_transactions"
   ]
  },
  {
   "cell_type": "code",
   "execution_count": null,
   "id": "9d3dc70c",
   "metadata": {},
   "outputs": [],
   "source": []
  }
 ],
 "metadata": {
  "kernelspec": {
   "display_name": "Python 3 (ipykernel)",
   "language": "python",
   "name": "python3"
  },
  "language_info": {
   "codemirror_mode": {
    "name": "ipython",
    "version": 3
   },
   "file_extension": ".py",
   "mimetype": "text/x-python",
   "name": "python",
   "nbconvert_exporter": "python",
   "pygments_lexer": "ipython3",
   "version": "3.9.13"
  }
 },
 "nbformat": 4,
 "nbformat_minor": 5
}
